{
 "cells": [
  {
   "cell_type": "code",
   "execution_count": 1,
   "metadata": {},
   "outputs": [],
   "source": [
    "import os\n",
    "import essentia\n",
    "import essentia.standard\n",
    "import essentia.streaming"
   ]
  },
  {
   "cell_type": "code",
   "execution_count": 3,
   "metadata": {},
   "outputs": [],
   "source": [
    "#los sonidos fueron seccionados por canciones amano y las 100 canciones fueron\n",
    "#a) nivelado el volumen con un batch en audition\n",
    "#b) normalizado el volumen con un batch en audition\n",
    "#c) cortadas con aubio en terminal\n",
    "#aubiocut NR__EL__PiezaCilindrero*.wav -c -O specflux -o ~/Desktop/testsounds/ -t 0.6\n",
    "#se esuchaban los niveles de -t con\n",
    "# aplay ~/Desktop/testsounds/NR__EL__PiezaCilindrero*.*\n",
    "directory = \"/home/hugosg/Desktop/calindros-data/\"\n",
    "for file in os.listdir(directory):\n",
    "    if file.endswith(\".wav\"):\n",
    "        fullpath = os.path.join(directory, file)\n",
    "        #print(fullpath)\n",
    "        #loader = essentia.standard.MonoLoader(filename=fullpath)\n",
    "        #audio = loader()\n",
    "        #extractor = essentia.standard.Extractor(rhythm=False)\n",
    "        #data = extractor(audio)\n",
    "        fse = essentia.standard.FreesoundExtractor()\n",
    "        data, frames = fse(fullpath)\n",
    "        yaml = essentia.standard.YamlOutput(filename=fullpath + \".sig\")\n",
    "        yaml(data)"
   ]
  },
  {
   "cell_type": "code",
   "execution_count": null,
   "metadata": {},
   "outputs": [],
   "source": []
  }
 ],
 "metadata": {
  "kernelspec": {
   "display_name": "Python 2",
   "language": "python",
   "name": "python2"
  },
  "language_info": {
   "codemirror_mode": {
    "name": "ipython",
    "version": 2
   },
   "file_extension": ".py",
   "mimetype": "text/x-python",
   "name": "python",
   "nbconvert_exporter": "python",
   "pygments_lexer": "ipython2",
   "version": "2.7.17"
  }
 },
 "nbformat": 4,
 "nbformat_minor": 4
}

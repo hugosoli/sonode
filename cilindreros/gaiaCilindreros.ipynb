{
 "cells": [
  {
   "cell_type": "code",
   "execution_count": 2,
   "metadata": {},
   "outputs": [],
   "source": [
    "import os\n",
    "from gaia2 import *"
   ]
  },
  {
   "cell_type": "code",
   "execution_count": 2,
   "metadata": {},
   "outputs": [],
   "source": [
    "ds = DataSet()\n",
    "directory = \"/home/hugosg/Desktop/calindros-data/extractor/\"\n",
    "for file in os.listdir(directory):\n",
    "    if file.endswith(\".sig\"):\n",
    "        #print(os.path.join(directory, file))\n",
    "        p = Point()\n",
    "        p.load(os.path.join(directory, file))\n",
    "        p.setName(file)\n",
    "        ds.addPoint(p)"
   ]
  },
  {
   "cell_type": "code",
   "execution_count": 8,
   "metadata": {},
   "outputs": [],
   "source": [
    "ds.save(\"calindros-data-cruda.db\")"
   ]
  },
  {
   "cell_type": "code",
   "execution_count": 7,
   "metadata": {},
   "outputs": [],
   "source": [
    "ds2 = DataSet()\n",
    "ds2.load(\"calindros-data-cruda.db\")"
   ]
  },
  {
   "cell_type": "code",
   "execution_count": 4,
   "metadata": {},
   "outputs": [],
   "source": [
    "ds_rvl = transform(ds2, 'removevl')"
   ]
  },
  {
   "cell_type": "code",
   "execution_count": 5,
   "metadata": {},
   "outputs": [],
   "source": [
    "ds_rvl_fixlen = transform(ds_rvl, 'fixlength')"
   ]
  },
  {
   "cell_type": "code",
   "execution_count": 6,
   "metadata": {},
   "outputs": [],
   "source": [
    "ds_rvl_fixlen_clean = transform(ds_rvl_fixlen, 'cleaner')"
   ]
  },
  {
   "cell_type": "code",
   "execution_count": 7,
   "metadata": {},
   "outputs": [],
   "source": [
    "ds_rvl_fixlen_clean_nrm = transform(ds_rvl_fixlen_clean, 'normalize')"
   ]
  },
  {
   "cell_type": "code",
   "execution_count": 8,
   "metadata": {},
   "outputs": [],
   "source": [
    "#ds_fixlen_clean_pca = transform(ds_rvl_fixlen_clean_nrm, 'pca', { 'dimension': 30, 'descriptorNames': [ '*.mean', '*.var' ], 'resultName': \"pca30meanvar\"})\n",
    "ds_rvl_fixlen_clean_nrm_pca = transform(ds_rvl_fixlen_clean_nrm, 'pca', { 'dimension': 30, 'resultName': \"pca30all\"})"
   ]
  },
  {
   "cell_type": "code",
   "execution_count": 8,
   "metadata": {},
   "outputs": [],
   "source": [
    "ds_rvl_fixlen_clean_nrm_pca.setReferenceDataSet(ds2)"
   ]
  },
  {
   "cell_type": "code",
   "execution_count": 12,
   "metadata": {},
   "outputs": [],
   "source": [
    "ds_rvl_fixlen_clean_nrm_pca.save(\"calindros-data-clean.db\")"
   ]
  },
  {
   "cell_type": "code",
   "execution_count": 3,
   "metadata": {},
   "outputs": [],
   "source": [
    "ds_rvl_fixlen_clean_nrm_pca = DataSet()\n",
    "ds_rvl_fixlen_clean_nrm_pca.load(\"calindros-data-clean.db\")"
   ]
  },
  {
   "cell_type": "code",
   "execution_count": 4,
   "metadata": {},
   "outputs": [],
   "source": [
    "euclideanMetric = DistanceFunctionFactory.create('euclidean', ds_rvl_fixlen_clean_nrm_pca.layout())\n",
    "euclideanView = View(ds_rvl_fixlen_clean_nrm_pca)"
   ]
  },
  {
   "cell_type": "code",
   "execution_count": 5,
   "metadata": {},
   "outputs": [
    {
     "name": "stdout",
     "output_type": "stream",
     "text": [
      "(('NR__EL__PiezaCilindrero01_0030.720952.wav.sig', 0.0), ('NR__EL__PiezaCilindrero07_0021.765533.wav.sig', 0.42618367075920105), ('NR__EL__PiezaCilindrero07_0012.894830.wav.sig', 0.4932052791118622), ('NR__EL__PiezaCilindrero79_0040.650476.wav.sig', 0.49620112776756287), ('NR__EL__PiezaCilindrero04_0046.619093.wav.sig', 0.5260078310966492), ('NR__EL__PiezaCilindrero03_0006.480295.wav.sig', 0.5466576814651489), ('NR__EL__PiezaCilindrero73_0003.619728.wav.sig', 0.6154358983039856), ('NR__EL__PiezaCilindrero100_0046.266848.wav.sig', 0.6308236122131348), ('NR__EL__PiezaCilindrero100_0013.252086.wav.sig', 0.6764639616012573), ('NR__EL__PiezaCilindrero73_0024.673764.wav.sig', 0.680894672870636))\n"
     ]
    }
   ],
   "source": [
    "similarSongs1 = euclideanView.nnSearch('NR__EL__PiezaCilindrero01_0030.720952.wav.sig', euclideanMetric).get(10)\n",
    "print(similarSongs1)"
   ]
  },
  {
   "cell_type": "code",
   "execution_count": 9,
   "metadata": {},
   "outputs": [
    {
     "name": "stdout",
     "output_type": "stream",
     "text": [
      "(('NR__EL__PiezaCilindrero02_0040.555692.wav.sig', 0.7083327770233154), ('NR__EL__PiezaCilindrero71_0018.063492.wav.sig', 1.0554381608963013), ('NR__EL__PiezaCilindrero09_0025.324376.wav.sig', 1.1967424154281616), ('NR__EL__PiezaCilindrero67_0017.631837.wav.sig', 1.2392336130142212), ('NR__EL__PiezaCilindrero57_0046.297664.wav.sig', 1.2605184316635132))\n"
     ]
    }
   ],
   "source": [
    "filter = 'WHERE value.average_loudness < 1 AND label.chords_key = \"Eb\"'\n",
    "similarSongs2 = euclideanView.nnSearch('NR__EL__PiezaCilindrero01_0030.720952.wav.sig',euclideanMetric,filter).get(5)\n",
    "print(similarSongs2)"
   ]
  },
  {
   "cell_type": "code",
   "execution_count": null,
   "metadata": {},
   "outputs": [],
   "source": []
  }
 ],
 "metadata": {
  "kernelspec": {
   "display_name": "Python 2",
   "language": "python",
   "name": "python2"
  },
  "language_info": {
   "codemirror_mode": {
    "name": "ipython",
    "version": 2
   },
   "file_extension": ".py",
   "mimetype": "text/x-python",
   "name": "python",
   "nbconvert_exporter": "python",
   "pygments_lexer": "ipython2",
   "version": "2.7.17"
  }
 },
 "nbformat": 4,
 "nbformat_minor": 4
}

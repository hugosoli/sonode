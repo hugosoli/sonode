{
 "cells": [
  {
   "cell_type": "code",
   "execution_count": 1,
   "metadata": {},
   "outputs": [],
   "source": [
    "import os\n",
    "from gaia2 import *"
   ]
  },
  {
   "cell_type": "code",
   "execution_count": 22,
   "metadata": {},
   "outputs": [],
   "source": [
    "ds = DataSet()\n",
    "directory = \"/home/hugosg/Desktop/calindros-data/freesoundextractor/\"\n",
    "\n",
    "for file in os.listdir(directory):\n",
    "    if file.endswith(\".sig\"):\n",
    "        #print(os.path.join(directory, file))\n",
    "        p = Point()\n",
    "        p.load(os.path.join(directory, file))\n",
    "        p.setName(file)\n",
    "        #print(p.layout())\n",
    "        p.layout().remove(\".rhythm\") #TODO remove only the childs of ryhtm that fail\n",
    "        ds.addPoint(p)"
   ]
  },
  {
   "cell_type": "code",
   "execution_count": 23,
   "metadata": {},
   "outputs": [],
   "source": [
    "ds.save(\"calindros-data-cruda.db\")"
   ]
  },
  {
   "cell_type": "code",
   "execution_count": 24,
   "metadata": {},
   "outputs": [],
   "source": [
    "ds2 = DataSet()\n",
    "ds2.load(\"calindros-data-cruda.db\")"
   ]
  },
  {
   "cell_type": "code",
   "execution_count": 25,
   "metadata": {},
   "outputs": [],
   "source": [
    "ds_rvl = transform(ds2, 'removevl')"
   ]
  },
  {
   "cell_type": "code",
   "execution_count": 26,
   "metadata": {},
   "outputs": [],
   "source": [
    "ds_rvl_fixlen = transform(ds_rvl, 'fixlength')"
   ]
  },
  {
   "cell_type": "code",
   "execution_count": 27,
   "metadata": {},
   "outputs": [],
   "source": [
    "ds_rvl_fixlen_clean = transform(ds_rvl_fixlen, 'cleaner')"
   ]
  },
  {
   "cell_type": "code",
   "execution_count": 28,
   "metadata": {},
   "outputs": [],
   "source": [
    "ds_rvl_fixlen_clean_nrm = transform(ds_rvl_fixlen_clean, 'normalize')"
   ]
  },
  {
   "cell_type": "code",
   "execution_count": 29,
   "metadata": {},
   "outputs": [],
   "source": [
    "#ds_fixlen_clean_pca = transform(ds_rvl_fixlen_clean_nrm, 'pca', { 'dimension': 30, 'descriptorNames': [ '*.mean', '*.var' ], 'resultName': \"pca30meanvar\"})\n",
    "ds_rvl_fixlen_clean_nrm_pca = transform(ds_rvl_fixlen_clean_nrm, 'pca', { 'dimension': 30, 'resultName': \"pca30all\"})"
   ]
  },
  {
   "cell_type": "code",
   "execution_count": 33,
   "metadata": {},
   "outputs": [],
   "source": [
    "ds_rvl_fixlen_clean_nrm_pca.setReferenceDataSet(ds2)"
   ]
  },
  {
   "cell_type": "code",
   "execution_count": 31,
   "metadata": {},
   "outputs": [],
   "source": [
    "ds_rvl_fixlen_clean_nrm_pca.save(\"calindros-data-clean.db\")"
   ]
  },
  {
   "cell_type": "code",
   "execution_count": 32,
   "metadata": {},
   "outputs": [],
   "source": [
    "ds_rvl_fixlen_clean_nrm_pca = DataSet()\n",
    "ds_rvl_fixlen_clean_nrm_pca.load(\"calindros-data-clean.db\")"
   ]
  },
  {
   "cell_type": "code",
   "execution_count": 34,
   "metadata": {},
   "outputs": [],
   "source": [
    "euclideanMetric = DistanceFunctionFactory.create('euclidean', ds_rvl_fixlen_clean_nrm_pca.layout())\n",
    "euclideanView = View(ds_rvl_fixlen_clean_nrm_pca)"
   ]
  },
  {
   "cell_type": "code",
   "execution_count": 35,
   "metadata": {},
   "outputs": [
    {
     "name": "stdout",
     "output_type": "stream",
     "text": [
      "(('NR__EL__PiezaCilindrero01_0030.720952.wav.sig', 0.0), ('NR__EL__PiezaCilindrero59_0043.999932.wav.sig', 1.0730857849121094), ('NR__EL__PiezaCilindrero06_0017.254512.wav.sig', 1.0951433181762695), ('NR__EL__PiezaCilindrero78_0048.664762.wav.sig', 1.1535507440567017), ('NR__EL__PiezaCilindrero07_0012.894830.wav.sig', 1.1821718215942383), ('NR__EL__PiezaCilindrero33_0016.940544.wav.sig', 1.2157554626464844), ('NR__EL__PiezaCilindrero39_0041.431315.wav.sig', 1.2319680452346802), ('NR__EL__PiezaCilindrero66_0045.531995.wav.sig', 1.2993186712265015), ('NR__EL__PiezaCilindrero35_0048.183152.wav.sig', 1.3252311944961548), ('NR__EL__PiezaCilindrero83_0003.104626.wav.sig', 1.36284339427948))\n"
     ]
    }
   ],
   "source": [
    "similarSongs1 = euclideanView.nnSearch('NR__EL__PiezaCilindrero01_0030.720952.wav.sig', euclideanMetric).get(10)\n",
    "print(similarSongs1)"
   ]
  },
  {
   "cell_type": "code",
   "execution_count": 36,
   "metadata": {},
   "outputs": [
    {
     "name": "stdout",
     "output_type": "stream",
     "text": [
      "(('NR__EL__PiezaCilindrero59_0012.269116.wav.sig', 1.4787979125976562), ('NR__EL__PiezaCilindrero05_0014.122268.wav.sig', 1.7605692148208618), ('NR__EL__PiezaCilindrero62_0005.836893.wav.sig', 1.8162094354629517), ('NR__EL__PiezaCilindrero47_0038.578776.wav.sig', 1.9193828105926514), ('NR__EL__PiezaCilindrero76_0028.398254.wav.sig', 1.945551872253418))\n"
     ]
    }
   ],
   "source": [
    "filter = 'WHERE value.average_loudness < 1 AND label.chords_key = \"Eb\"'\n",
    "similarSongs2 = euclideanView.nnSearch('NR__EL__PiezaCilindrero01_0030.720952.wav.sig',euclideanMetric,filter).get(5)\n",
    "print(similarSongs2)"
   ]
  },
  {
   "cell_type": "code",
   "execution_count": null,
   "metadata": {},
   "outputs": [],
   "source": []
  }
 ],
 "metadata": {
  "kernelspec": {
   "display_name": "Python 2",
   "language": "python",
   "name": "python2"
  },
  "language_info": {
   "codemirror_mode": {
    "name": "ipython",
    "version": 2
   },
   "file_extension": ".py",
   "mimetype": "text/x-python",
   "name": "python",
   "nbconvert_exporter": "python",
   "pygments_lexer": "ipython2",
   "version": "2.7.17"
  }
 },
 "nbformat": 4,
 "nbformat_minor": 4
}
